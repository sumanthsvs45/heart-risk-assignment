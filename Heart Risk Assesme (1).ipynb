{
 "cells": [
  {
   "cell_type": "code",
   "execution_count": 2,
   "id": "47e87d56-77ba-4313-883f-a816432a29f1",
   "metadata": {},
   "outputs": [],
   "source": [
    "# Step 1: Import libraries\n",
    "import pandas as pd\n",
    "import numpy as np"
   ]
  },
  {
   "cell_type": "code",
   "execution_count": 3,
   "id": "96ea5125-2ea1-492b-a535-f5cd63e2e2c7",
   "metadata": {},
   "outputs": [
    {
     "data": {
      "text/html": [
       "<div>\n",
       "<style scoped>\n",
       "    .dataframe tbody tr th:only-of-type {\n",
       "        vertical-align: middle;\n",
       "    }\n",
       "\n",
       "    .dataframe tbody tr th {\n",
       "        vertical-align: top;\n",
       "    }\n",
       "\n",
       "    .dataframe thead th {\n",
       "        text-align: right;\n",
       "    }\n",
       "</style>\n",
       "<table border=\"1\" class=\"dataframe\">\n",
       "  <thead>\n",
       "    <tr style=\"text-align: right;\">\n",
       "      <th></th>\n",
       "      <th>Age</th>\n",
       "      <th>ExerciseHours</th>\n",
       "      <th>SleepHours</th>\n",
       "      <th>CaloriesIntake</th>\n",
       "      <th>BMI</th>\n",
       "      <th>BloodPressure</th>\n",
       "    </tr>\n",
       "  </thead>\n",
       "  <tbody>\n",
       "    <tr>\n",
       "      <th>0</th>\n",
       "      <td>52</td>\n",
       "      <td>6</td>\n",
       "      <td>4</td>\n",
       "      <td>2996</td>\n",
       "      <td>34.877886</td>\n",
       "      <td>153</td>\n",
       "    </tr>\n",
       "    <tr>\n",
       "      <th>1</th>\n",
       "      <td>53</td>\n",
       "      <td>3</td>\n",
       "      <td>4</td>\n",
       "      <td>2940</td>\n",
       "      <td>20.235315</td>\n",
       "      <td>125</td>\n",
       "    </tr>\n",
       "    <tr>\n",
       "      <th>2</th>\n",
       "      <td>70</td>\n",
       "      <td>7</td>\n",
       "      <td>9</td>\n",
       "      <td>1804</td>\n",
       "      <td>22.670436</td>\n",
       "      <td>151</td>\n",
       "    </tr>\n",
       "    <tr>\n",
       "      <th>3</th>\n",
       "      <td>61</td>\n",
       "      <td>4</td>\n",
       "      <td>6</td>\n",
       "      <td>2235</td>\n",
       "      <td>24.707793</td>\n",
       "      <td>131</td>\n",
       "    </tr>\n",
       "    <tr>\n",
       "      <th>4</th>\n",
       "      <td>62</td>\n",
       "      <td>6</td>\n",
       "      <td>8</td>\n",
       "      <td>3838</td>\n",
       "      <td>25.171079</td>\n",
       "      <td>131</td>\n",
       "    </tr>\n",
       "    <tr>\n",
       "      <th>...</th>\n",
       "      <td>...</td>\n",
       "      <td>...</td>\n",
       "      <td>...</td>\n",
       "      <td>...</td>\n",
       "      <td>...</td>\n",
       "      <td>...</td>\n",
       "    </tr>\n",
       "    <tr>\n",
       "      <th>1020</th>\n",
       "      <td>59</td>\n",
       "      <td>4</td>\n",
       "      <td>8</td>\n",
       "      <td>1682</td>\n",
       "      <td>33.136962</td>\n",
       "      <td>142</td>\n",
       "    </tr>\n",
       "    <tr>\n",
       "      <th>1021</th>\n",
       "      <td>60</td>\n",
       "      <td>9</td>\n",
       "      <td>4</td>\n",
       "      <td>3074</td>\n",
       "      <td>30.749623</td>\n",
       "      <td>149</td>\n",
       "    </tr>\n",
       "    <tr>\n",
       "      <th>1022</th>\n",
       "      <td>47</td>\n",
       "      <td>3</td>\n",
       "      <td>7</td>\n",
       "      <td>1896</td>\n",
       "      <td>33.439884</td>\n",
       "      <td>123</td>\n",
       "    </tr>\n",
       "    <tr>\n",
       "      <th>1023</th>\n",
       "      <td>50</td>\n",
       "      <td>5</td>\n",
       "      <td>5</td>\n",
       "      <td>3227</td>\n",
       "      <td>30.898160</td>\n",
       "      <td>93</td>\n",
       "    </tr>\n",
       "    <tr>\n",
       "      <th>1024</th>\n",
       "      <td>54</td>\n",
       "      <td>6</td>\n",
       "      <td>8</td>\n",
       "      <td>3017</td>\n",
       "      <td>28.151640</td>\n",
       "      <td>106</td>\n",
       "    </tr>\n",
       "  </tbody>\n",
       "</table>\n",
       "<p>1025 rows × 6 columns</p>\n",
       "</div>"
      ],
      "text/plain": [
       "      Age  ExerciseHours  SleepHours  CaloriesIntake        BMI  BloodPressure\n",
       "0      52              6           4            2996  34.877886            153\n",
       "1      53              3           4            2940  20.235315            125\n",
       "2      70              7           9            1804  22.670436            151\n",
       "3      61              4           6            2235  24.707793            131\n",
       "4      62              6           8            3838  25.171079            131\n",
       "...   ...            ...         ...             ...        ...            ...\n",
       "1020   59              4           8            1682  33.136962            142\n",
       "1021   60              9           4            3074  30.749623            149\n",
       "1022   47              3           7            1896  33.439884            123\n",
       "1023   50              5           5            3227  30.898160             93\n",
       "1024   54              6           8            3017  28.151640            106\n",
       "\n",
       "[1025 rows x 6 columns]"
      ]
     },
     "execution_count": 3,
     "metadata": {},
     "output_type": "execute_result"
    }
   ],
   "source": [
    "\n",
    "# Step 2: Load dataset (replace path with your CSV file path)\n",
    "df = pd.read_csv(\"E:\\Mentorbaba Academy/health_assessment.csv\")\n",
    "df"
   ]
  },
  {
   "cell_type": "code",
   "execution_count": 4,
   "id": "27bdcca6-67a8-4a65-86f4-a849a2128e6b",
   "metadata": {},
   "outputs": [
    {
     "data": {
      "text/html": [
       "<div>\n",
       "<style scoped>\n",
       "    .dataframe tbody tr th:only-of-type {\n",
       "        vertical-align: middle;\n",
       "    }\n",
       "\n",
       "    .dataframe tbody tr th {\n",
       "        vertical-align: top;\n",
       "    }\n",
       "\n",
       "    .dataframe thead th {\n",
       "        text-align: right;\n",
       "    }\n",
       "</style>\n",
       "<table border=\"1\" class=\"dataframe\">\n",
       "  <thead>\n",
       "    <tr style=\"text-align: right;\">\n",
       "      <th></th>\n",
       "      <th>Age</th>\n",
       "      <th>ExerciseHours</th>\n",
       "      <th>SleepHours</th>\n",
       "      <th>CaloriesIntake</th>\n",
       "      <th>BMI</th>\n",
       "      <th>BloodPressure</th>\n",
       "    </tr>\n",
       "  </thead>\n",
       "  <tbody>\n",
       "    <tr>\n",
       "      <th>0</th>\n",
       "      <td>52</td>\n",
       "      <td>6</td>\n",
       "      <td>4</td>\n",
       "      <td>2996</td>\n",
       "      <td>34.877886</td>\n",
       "      <td>153</td>\n",
       "    </tr>\n",
       "    <tr>\n",
       "      <th>1</th>\n",
       "      <td>53</td>\n",
       "      <td>3</td>\n",
       "      <td>4</td>\n",
       "      <td>2940</td>\n",
       "      <td>20.235315</td>\n",
       "      <td>125</td>\n",
       "    </tr>\n",
       "    <tr>\n",
       "      <th>2</th>\n",
       "      <td>70</td>\n",
       "      <td>7</td>\n",
       "      <td>9</td>\n",
       "      <td>1804</td>\n",
       "      <td>22.670436</td>\n",
       "      <td>151</td>\n",
       "    </tr>\n",
       "    <tr>\n",
       "      <th>3</th>\n",
       "      <td>61</td>\n",
       "      <td>4</td>\n",
       "      <td>6</td>\n",
       "      <td>2235</td>\n",
       "      <td>24.707793</td>\n",
       "      <td>131</td>\n",
       "    </tr>\n",
       "    <tr>\n",
       "      <th>4</th>\n",
       "      <td>62</td>\n",
       "      <td>6</td>\n",
       "      <td>8</td>\n",
       "      <td>3838</td>\n",
       "      <td>25.171079</td>\n",
       "      <td>131</td>\n",
       "    </tr>\n",
       "  </tbody>\n",
       "</table>\n",
       "</div>"
      ],
      "text/plain": [
       "   Age  ExerciseHours  SleepHours  CaloriesIntake        BMI  BloodPressure\n",
       "0   52              6           4            2996  34.877886            153\n",
       "1   53              3           4            2940  20.235315            125\n",
       "2   70              7           9            1804  22.670436            151\n",
       "3   61              4           6            2235  24.707793            131\n",
       "4   62              6           8            3838  25.171079            131"
      ]
     },
     "execution_count": 4,
     "metadata": {},
     "output_type": "execute_result"
    }
   ],
   "source": [
    "df.head()"
   ]
  },
  {
   "cell_type": "code",
   "execution_count": 5,
   "id": "e0c2c2fd-5f36-4df7-9826-e7cba96b44be",
   "metadata": {},
   "outputs": [
    {
     "name": "stdout",
     "output_type": "stream",
     "text": [
      "(1025, 6)\n"
     ]
    }
   ],
   "source": [
    "# df.shape is basically telling  “my dataset has X rows and Y columns.\n",
    "print(df.shape)\n"
   ]
  },
  {
   "cell_type": "code",
   "execution_count": 6,
   "id": "b71be69b-2882-465d-b7d8-0a1541ae77c3",
   "metadata": {},
   "outputs": [
    {
     "data": {
      "text/plain": [
       "Age               0\n",
       "ExerciseHours     0\n",
       "SleepHours        0\n",
       "CaloriesIntake    0\n",
       "BMI               0\n",
       "BloodPressure     0\n",
       "dtype: int64"
      ]
     },
     "execution_count": 6,
     "metadata": {},
     "output_type": "execute_result"
    }
   ],
   "source": [
    "#checking is there any null values in dataset\n",
    "df.isnull().sum()\n"
   ]
  },
  {
   "cell_type": "code",
   "execution_count": 7,
   "id": "dccf9553-f2b1-43d7-b319-305933b4a253",
   "metadata": {},
   "outputs": [
    {
     "name": "stdout",
     "output_type": "stream",
     "text": [
      "0       34.877886\n",
      "1       20.235315\n",
      "2       22.670436\n",
      "3       24.707793\n",
      "4       25.171079\n",
      "          ...    \n",
      "1020    33.136962\n",
      "1021    30.749623\n",
      "1022    33.439884\n",
      "1023    30.898160\n",
      "1024    28.151640\n",
      "Name: BMI, Length: 1025, dtype: float64\n"
     ]
    }
   ],
   "source": [
    "# Step 3: Features (X) and Targets (y1, y2)\n",
    "X = df[[\"Age\", \"ExerciseHours\", \"SleepHours\", \"CaloriesIntake\"]]\n",
    "y_bmi = df[\"BMI\"]\n",
    "y_bp = df[\"BloodPressure\"]\n",
    "print(y_bmi)"
   ]
  },
  {
   "cell_type": "code",
   "execution_count": 8,
   "id": "4820ba2d-4aa6-448f-8d33-caadd6c3d9ab",
   "metadata": {},
   "outputs": [
    {
     "name": "stdout",
     "output_type": "stream",
     "text": [
      "        Age  ExerciseHours  SleepHours  CaloriesIntake\n",
      "0  0.479167       0.666667         0.0        0.599198\n",
      "1  0.500000       0.333333         0.0        0.576754\n",
      "2  0.854167       0.777778         1.0        0.121443\n",
      "3  0.666667       0.444444         0.4        0.294188\n",
      "4  0.687500       0.666667         0.8        0.936673\n"
     ]
    }
   ],
   "source": [
    "\n",
    "# Step 4: Normalize features\n",
    "X_minmax = (X - X.min()) / (X.max() - X.min())\n",
    "print(X_minmax.head())"
   ]
  },
  {
   "cell_type": "code",
   "execution_count": 9,
   "id": "c62c741a-be0a-453a-9160-f8f84a981b2c",
   "metadata": {},
   "outputs": [],
   "source": [
    "# train_test_split \n",
    "from sklearn.model_selection import train_test_split\n",
    "\n",
    "# For BMI\n",
    "X_train_bmi, X_test_bmi, y_train_bmi, y_test_bmi = train_test_split(X, y_bmi, test_size=0.2, random_state=42)\n",
    "\n",
    "# For BP\n",
    "X_train_bp, X_test_bp, y_train_bp, y_test_bp = train_test_split(X, y_bp, test_size=0.2, random_state=42)\n",
    "\n",
    "\n"
   ]
  },
  {
   "cell_type": "code",
   "execution_count": 10,
   "id": "e95ab204-c3ae-497e-a7fd-aa04b5054c77",
   "metadata": {},
   "outputs": [],
   "source": [
    "# importing linear regression model\n",
    "from sklearn.linear_model import LinearRegression\n",
    "# For BMI\n",
    "X_train_bmi, X_test_bmi, y_train_bmi, y_test_bmi = train_test_split(X, y_bmi, test_size=0.2, random_state=42)\n",
    "\n",
    "# For BP\n",
    "X_train_bp, X_test_bp, y_train_bp, y_test_bp = train_test_split(X, y_bp, test_size=0.2, random_state=42)\n",
    "\n",
    "# Train separately\n",
    "bmi_model = LinearRegression().fit(X_train_bmi, y_train_bmi)\n",
    "bp_model  = LinearRegression().fit(X_train_bp, y_train_bp)\n"
   ]
  },
  {
   "cell_type": "code",
   "execution_count": 11,
   "id": "299c37fa-1b6d-4d65-b3f7-d38f84803faf",
   "metadata": {},
   "outputs": [
    {
     "ename": "NameError",
     "evalue": "name 'X_test' is not defined",
     "output_type": "error",
     "traceback": [
      "\u001b[1;31m---------------------------------------------------------------------------\u001b[0m",
      "\u001b[1;31mNameError\u001b[0m                                 Traceback (most recent call last)",
      "Cell \u001b[1;32mIn[11], line 2\u001b[0m\n\u001b[0;32m      1\u001b[0m \u001b[38;5;66;03m# Step 7: Predictions\u001b[39;00m\n\u001b[1;32m----> 2\u001b[0m y_bmi_pred \u001b[38;5;241m=\u001b[39m bmi_model\u001b[38;5;241m.\u001b[39mpredict(X_test)\n\u001b[0;32m      3\u001b[0m y_bp_pred \u001b[38;5;241m=\u001b[39m bp_model\u001b[38;5;241m.\u001b[39mpredict(X_test)\n",
      "\u001b[1;31mNameError\u001b[0m: name 'X_test' is not defined"
     ]
    }
   ],
   "source": [
    "# Step 7: Predictions\n",
    "y_bmi_pred = bmi_model.predict(X_test)\n",
    "y_bp_pred = bp_model.predict(X_test)"
   ]
  },
  {
   "cell_type": "code",
   "execution_count": null,
   "id": "9f6565d1-4558-4b6a-b823-78a16348d8a7",
   "metadata": {},
   "outputs": [],
   "source": [
    "# Step 8: Evaluation\n",
    "from sklearn.metrics import mean_squared_error\n",
    "print(\"\\n--- Model Performance ---\")\n",
    "print(f\"BMI -> RMSE: {np.sqrt(mean_squared_error(y_test_bmi, y_bmi_pred)):.2f}\")\n",
    "print(f\"Blood Pressure -> RMSE: {np.sqrt(mean_squared_error(y_test_bp, y_bp_pred)):.2f}\")"
   ]
  },
  {
   "cell_type": "code",
   "execution_count": null,
   "id": "4fc786dd-fb69-41ce-af98-380d880c7c81",
   "metadata": {},
   "outputs": [],
   "source": [
    "# Step 9: Health tips function\n",
    "def health_tips(bmi, bp):\n",
    "    tips = []\n",
    "    if bmi > 25:\n",
    "        tips.append(\"⚠️ Maintain a balanced diet and exercise regularly to lower BMI.\")\n",
    "    else:\n",
    "        tips.append(\"✅ Your BMI is in a healthy range.\")\n",
    "\n",
    "    if bp > 130:\n",
    "        tips.append(\"⚠️ Reduce salt intake and manage stress to lower blood pressure.\")\n",
    "    else:\n",
    "        tips.append(\"✅ Your blood pressure is normal.\")\n",
    "\n",
    "    return tips\n",
    "\n"
   ]
  },
  {
   "cell_type": "code",
   "execution_count": null,
   "id": "5d2d32af-7150-4428-bf70-666ec11efd24",
   "metadata": {},
   "outputs": [],
   "source": [
    "# Testing the output giving input values\n",
    "precautions = health_tips(55, 129)\n",
    "print(f\"Precautions to be taken: {precautions}\")"
   ]
  },
  {
   "cell_type": "code",
   "execution_count": 13,
   "id": "83b4466e-a27d-447a-ab07-f0cf098967ad",
   "metadata": {},
   "outputs": [
    {
     "name": "stdout",
     "output_type": "stream",
     "text": [
      "\n",
      "--- New Person Prediction ---\n",
      "Predicted BMI: 148.43\n",
      "Predicted Blood Pressure: 2015.19\n"
     ]
    },
    {
     "name": "stderr",
     "output_type": "stream",
     "text": [
      "C:\\Users\\DELL\\anaconda3\\Lib\\site-packages\\sklearn\\utils\\validation.py:2739: UserWarning: X does not have valid feature names, but LinearRegression was fitted with feature names\n",
      "  warnings.warn(\n",
      "C:\\Users\\DELL\\anaconda3\\Lib\\site-packages\\sklearn\\utils\\validation.py:2739: UserWarning: X does not have valid feature names, but LinearRegression was fitted with feature names\n",
      "  warnings.warn(\n"
     ]
    }
   ],
   "source": [
    "\n",
    "# Step 10: Test with a new person (simple version)\n",
    "# Data format -> [Age, ExerciseHours, SleepHours, CaloriesIntake]\n",
    "new_person = [[7, 7000, 2200,100]]\n",
    "\n",
    "# Predict BMI and Blood Pressure\n",
    "pred_bmi = bmi_model.predict(new_person)[0]\n",
    "pred_bp = bp_model.predict(new_person)[0]\n",
    "\n",
    "print(\"\\n--- New Person Prediction ---\")\n",
    "print(\"Predicted BMI:\", round(pred_bmi, 2))\n",
    "print(\"Predicted Blood Pressure:\", round(pred_bp, 2))\n"
   ]
  },
  {
   "cell_type": "code",
   "execution_count": null,
   "id": "ca3c8b80-ac58-4299-83fa-aa4656e362e7",
   "metadata": {},
   "outputs": [],
   "source": []
  },
  {
   "cell_type": "code",
   "execution_count": null,
   "id": "6ade5339-8196-4fcc-a357-e53c67791c0a",
   "metadata": {},
   "outputs": [],
   "source": []
  }
 ],
 "metadata": {
  "kernelspec": {
   "display_name": "Python 3 (ipykernel)",
   "language": "python",
   "name": "python3"
  },
  "language_info": {
   "codemirror_mode": {
    "name": "ipython",
    "version": 3
   },
   "file_extension": ".py",
   "mimetype": "text/x-python",
   "name": "python",
   "nbconvert_exporter": "python",
   "pygments_lexer": "ipython3",
   "version": "3.13.5"
  }
 },
 "nbformat": 4,
 "nbformat_minor": 5
}
